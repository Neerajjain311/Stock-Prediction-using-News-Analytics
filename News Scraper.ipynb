{
 "cells": [
  {
   "cell_type": "code",
   "execution_count": 1,
   "metadata": {},
   "outputs": [],
   "source": [
    "import requests\n",
    "from bs4 import BeautifulSoup\n",
    "import csv"
   ]
  },
  {
   "cell_type": "code",
   "execution_count": 2,
   "metadata": {},
   "outputs": [],
   "source": [
    "import pandas as pd\n",
    "from nltk.sentiment.vader import SentimentIntensityAnalyzer\n",
    "analyser = SentimentIntensityAnalyzer()"
   ]
  },
  {
   "cell_type": "code",
   "execution_count": 3,
   "metadata": {},
   "outputs": [],
   "source": [
    "import pandas as pd\n",
    "from datetime import datetime"
   ]
  },
  {
   "cell_type": "code",
   "execution_count": 4,
   "metadata": {},
   "outputs": [],
   "source": [
    "url = \"https://economictimes.indiatimes.com/reliance-industries-ltd/stocksupdate/companyid-13215.cms\"\n",
    "request = requests.get(url) \n",
    "soup_page = BeautifulSoup(request.content, 'html.parser') \n",
    "  \n",
    "quotes = []\n",
    "  \n",
    "search_div = soup_page.find('div', attrs = {'class':'all'}) \n",
    "search_class = search_div.findAll('div', attrs = {'class':'eachStory'})  \n",
    "for chunk in search_class: \n",
    "    quote = {} \n",
    "    text_heading = chunk.find('div', attrs = {'class':'headingText'})\n",
    "    text_date = chunk.find('div', attrs = {'class':'storyDate'})\n",
    "    quote['date'] = text_date.time.text\n",
    "    quote['text'] = text_heading.h3.text + '. ' + chunk.p.text\n",
    "    quotes.append(quote)"
   ]
  },
  {
   "cell_type": "code",
   "execution_count": 5,
   "metadata": {},
   "outputs": [],
   "source": [
    "scores = []\n",
    "for quote in quotes:\n",
    "    score = {}\n",
    "    adj_date  = quote['date'].split(',')\n",
    "    yr = adj_date[1].split(' ')\n",
    "    if yr[0] != '':\n",
    "        score['date'] = adj_date[0] + ' ' + yr[0]\n",
    "        values = analyser.polarity_scores(quote['text'])\n",
    "        score['value'] = values['compound']\n",
    "        scores.append(score) "
   ]
  },
  {
   "cell_type": "code",
   "execution_count": 6,
   "metadata": {},
   "outputs": [],
   "source": [
    "lst = []\n",
    "for scr in scores:\n",
    "    tmp = {}\n",
    "    strg = scr['date']\n",
    "    dt = datetime.strptime(strg, '%d %b %Y')\n",
    "    tmp['Date'] = dt.strftime('%Y-%m-%d')   \n",
    "    tmp['Sentiment'] = scr['value']\n",
    "    lst.append(tmp)\n",
    "\n",
    "dframe = pd.DataFrame(lst)\n",
    "df = dframe.groupby('Date').mean()\n",
    "\n",
    "df.to_csv('RELIANCENEWS.csv', index = True) "
   ]
  }
 ],
 "metadata": {
  "kernelspec": {
   "display_name": "Python 3",
   "language": "python",
   "name": "python3"
  },
  "language_info": {
   "codemirror_mode": {
    "name": "ipython",
    "version": 3
   },
   "file_extension": ".py",
   "mimetype": "text/x-python",
   "name": "python",
   "nbconvert_exporter": "python",
   "pygments_lexer": "ipython3",
   "version": "3.6.8"
  }
 },
 "nbformat": 4,
 "nbformat_minor": 2
}
